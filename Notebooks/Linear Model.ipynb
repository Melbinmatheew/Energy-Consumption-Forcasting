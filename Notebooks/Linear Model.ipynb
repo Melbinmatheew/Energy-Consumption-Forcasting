{
 "cells": [
  {
   "cell_type": "markdown",
   "metadata": {},
   "source": [
    "Importing Libraries\n"
   ]
  },
  {
   "cell_type": "code",
   "execution_count": 1,
   "metadata": {},
   "outputs": [],
   "source": [
    "import numpy as np\n",
    "import pandas as pd\n",
    "import matplotlib.pyplot as plt\n",
    "\n",
    "from sklearn.linear_model import LinearRegression\n",
    "from sklearn.model_selection import train_test_split\n"
   ]
  },
  {
   "cell_type": "code",
   "execution_count": 4,
   "metadata": {},
   "outputs": [
    {
     "data": {
      "text/html": [
       "<div>\n",
       "<style scoped>\n",
       "    .dataframe tbody tr th:only-of-type {\n",
       "        vertical-align: middle;\n",
       "    }\n",
       "\n",
       "    .dataframe tbody tr th {\n",
       "        vertical-align: top;\n",
       "    }\n",
       "\n",
       "    .dataframe thead th {\n",
       "        text-align: right;\n",
       "    }\n",
       "</style>\n",
       "<table border=\"1\" class=\"dataframe\">\n",
       "  <thead>\n",
       "    <tr style=\"text-align: right;\">\n",
       "      <th></th>\n",
       "      <th>Timestamp</th>\n",
       "      <th>Value</th>\n",
       "      <th>year</th>\n",
       "      <th>Date</th>\n",
       "      <th>Month</th>\n",
       "      <th>Temperature</th>\n",
       "      <th>Holiday</th>\n",
       "      <th>Is_Working_Day</th>\n",
       "    </tr>\n",
       "  </thead>\n",
       "  <tbody>\n",
       "    <tr>\n",
       "      <th>0</th>\n",
       "      <td>2013-03-21 00:00:00+00:00</td>\n",
       "      <td>51953.816584</td>\n",
       "      <td>2013</td>\n",
       "      <td>2013-03-21</td>\n",
       "      <td>3</td>\n",
       "      <td>13.0</td>\n",
       "      <td>Working Day</td>\n",
       "      <td>1</td>\n",
       "    </tr>\n",
       "    <tr>\n",
       "      <th>1</th>\n",
       "      <td>2013-03-22 00:00:00+00:00</td>\n",
       "      <td>42459.352626</td>\n",
       "      <td>2013</td>\n",
       "      <td>2013-03-22</td>\n",
       "      <td>3</td>\n",
       "      <td>15.0</td>\n",
       "      <td>Working Day</td>\n",
       "      <td>1</td>\n",
       "    </tr>\n",
       "    <tr>\n",
       "      <th>2</th>\n",
       "      <td>2013-03-23 00:00:00+00:00</td>\n",
       "      <td>34399.993680</td>\n",
       "      <td>2013</td>\n",
       "      <td>2013-03-23</td>\n",
       "      <td>3</td>\n",
       "      <td>15.0</td>\n",
       "      <td>Working Day</td>\n",
       "      <td>1</td>\n",
       "    </tr>\n",
       "    <tr>\n",
       "      <th>3</th>\n",
       "      <td>2013-03-24 00:00:00+00:00</td>\n",
       "      <td>35669.267336</td>\n",
       "      <td>2013</td>\n",
       "      <td>2013-03-24</td>\n",
       "      <td>3</td>\n",
       "      <td>14.8</td>\n",
       "      <td>Working Day</td>\n",
       "      <td>1</td>\n",
       "    </tr>\n",
       "    <tr>\n",
       "      <th>4</th>\n",
       "      <td>2013-03-25 00:00:00+00:00</td>\n",
       "      <td>52242.277642</td>\n",
       "      <td>2013</td>\n",
       "      <td>2013-03-25</td>\n",
       "      <td>3</td>\n",
       "      <td>19.0</td>\n",
       "      <td>Working Day</td>\n",
       "      <td>1</td>\n",
       "    </tr>\n",
       "  </tbody>\n",
       "</table>\n",
       "</div>"
      ],
      "text/plain": [
       "                   Timestamp         Value  year        Date  Month  \\\n",
       "0  2013-03-21 00:00:00+00:00  51953.816584  2013  2013-03-21      3   \n",
       "1  2013-03-22 00:00:00+00:00  42459.352626  2013  2013-03-22      3   \n",
       "2  2013-03-23 00:00:00+00:00  34399.993680  2013  2013-03-23      3   \n",
       "3  2013-03-24 00:00:00+00:00  35669.267336  2013  2013-03-24      3   \n",
       "4  2013-03-25 00:00:00+00:00  52242.277642  2013  2013-03-25      3   \n",
       "\n",
       "   Temperature      Holiday  Is_Working_Day  \n",
       "0         13.0  Working Day               1  \n",
       "1         15.0  Working Day               1  \n",
       "2         15.0  Working Day               1  \n",
       "3         14.8  Working Day               1  \n",
       "4         19.0  Working Day               1  "
      ]
     },
     "execution_count": 4,
     "metadata": {},
     "output_type": "execute_result"
    }
   ],
   "source": [
    "data=pd.read_csv(r\"..\\Notebooks\\Consumption_dataset.csv\")\n",
    "data.head()"
   ]
  },
  {
   "cell_type": "code",
   "execution_count": 5,
   "metadata": {},
   "outputs": [
    {
     "name": "stdout",
     "output_type": "stream",
     "text": [
      "Null values: \n",
      "Timestamp         0\n",
      "Value             5\n",
      "year              0\n",
      "Date              0\n",
      "Month             0\n",
      "Temperature       0\n",
      "Holiday           0\n",
      "Is_Working_Day    0\n",
      "dtype: int64\n",
      "Duplicate Values: \n",
      "0\n"
     ]
    }
   ],
   "source": [
    "print(\"Null values: \")\n",
    "print(data.isna().sum())\n",
    "print(\"Duplicate Values: \")\n",
    "print(data.duplicated().sum())\n",
    "\n"
   ]
  },
  {
   "cell_type": "code",
   "execution_count": null,
   "metadata": {},
   "outputs": [],
   "source": []
  }
 ],
 "metadata": {
  "kernelspec": {
   "display_name": "venv_name",
   "language": "python",
   "name": "python3"
  },
  "language_info": {
   "codemirror_mode": {
    "name": "ipython",
    "version": 3
   },
   "file_extension": ".py",
   "mimetype": "text/x-python",
   "name": "python",
   "nbconvert_exporter": "python",
   "pygments_lexer": "ipython3",
   "version": "3.10.8"
  }
 },
 "nbformat": 4,
 "nbformat_minor": 2
}
